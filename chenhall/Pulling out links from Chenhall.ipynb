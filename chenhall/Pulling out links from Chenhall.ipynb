{
 "cells": [
  {
   "cell_type": "code",
   "execution_count": 1,
   "metadata": {
    "ExecuteTime": {
     "end_time": "2020-03-27T18:00:05.535906Z",
     "start_time": "2020-03-27T18:00:05.532941Z"
    }
   },
   "outputs": [],
   "source": [
    "import json"
   ]
  },
  {
   "cell_type": "code",
   "execution_count": 2,
   "metadata": {
    "ExecuteTime": {
     "end_time": "2020-03-27T18:00:06.255752Z",
     "start_time": "2020-03-27T18:00:05.538249Z"
    }
   },
   "outputs": [],
   "source": [
    "with open('nomenclature_all.json') as json_file:\n",
    "    chenhall = json.load(json_file)"
   ]
  },
  {
   "cell_type": "code",
   "execution_count": 3,
   "metadata": {
    "ExecuteTime": {
     "end_time": "2020-03-27T18:00:06.265832Z",
     "start_time": "2020-03-27T18:00:06.257524Z"
    }
   },
   "outputs": [
    {
     "data": {
      "text/plain": [
       "14922"
      ]
     },
     "execution_count": 3,
     "metadata": {},
     "output_type": "execute_result"
    }
   ],
   "source": [
    "len(chenhall)"
   ]
  },
  {
   "cell_type": "markdown",
   "metadata": {},
   "source": [
    "Taking a look at a \"random\" entry -- #42."
   ]
  },
  {
   "cell_type": "code",
   "execution_count": 4,
   "metadata": {
    "ExecuteTime": {
     "end_time": "2020-03-27T18:00:06.273814Z",
     "start_time": "2020-03-27T18:00:06.268170Z"
    },
    "scrolled": true
   },
   "outputs": [
    {
     "data": {
      "text/plain": [
       "{'@context': {'nomo': 'http://nomenclature.info/nom/ontology/',\n",
       "  'skos': 'http://www.w3.org/2004/02/skos/core#',\n",
       "  'skos-xl': 'http://www.w3.org/2008/05/skos-xl#',\n",
       "  'dct': 'http://purl.org/dc/terms/',\n",
       "  'dc': 'http://purl.org/dc/elements/1.1/',\n",
       "  'rdf': 'http://www.w3.org/1999/02/22-rdf-syntax-ns#',\n",
       "  'foaf': 'http://xmlns.com/foaf/0.1/',\n",
       "  'owl': 'http://www.w3.org/2002/07/owl#',\n",
       "  'cs': 'http://purl.org/vocab/changeset/schema'},\n",
       " '@id': 'http://nomenclature.info/nom/14888',\n",
       " '@type': ['http://www.w3.org/2004/02/skos/core#Concept'],\n",
       " 'dc:identifier': [{'@type': 'http://www.w3.org/2001/XMLSchema#string',\n",
       "   '@value': '14888'}],\n",
       " 'skos:prefLabel': [{'@language': 'en', '@value': 'Pinwheel'},\n",
       "  {'@language': 'fr', '@value': 'Virevent'}],\n",
       " 'nomo:English-Term-Contributor': [{'@language': 'en',\n",
       "   '@value': 'American Association for State and Local History (AASLH)'},\n",
       "  {'@language': 'fr',\n",
       "   '@value': 'American Association for State and Local History (AASLH)'}],\n",
       " 'nomo:French-Term-Contributor': [{'@language': 'en',\n",
       "   '@value': 'Canadian Heritage Information Network (CHIN)'},\n",
       "  {'@language': 'fr',\n",
       "   '@value': 'Réseau canadien d’information sur le patrimoine (RCIP)'}],\n",
       " 'nomo:French-Term-Source': [{'@language': 'en',\n",
       "   '@value': 'Nomenclature for Museum Cataloging'},\n",
       "  {'@language': 'fr',\n",
       "   '@value': 'Nomenclature pour le catalogage des objets de musée'}],\n",
       " 'nomo:English-Term-Source': [{'@language': 'en',\n",
       "   '@value': 'Nomenclature for Museum Cataloging'},\n",
       "  {'@language': 'fr',\n",
       "   '@value': 'Nomenclature pour le catalogage des objets de musée'}],\n",
       " 'nomo:French-Term-Gender': [{'@type': 'http://www.w3.org/2001/XMLSchema#string',\n",
       "   '@value': 'm.'}],\n",
       " 'nomo:Date-Added': [{'@language': 'en', '@value': '1978-2010'}],\n",
       " 'skos:exactMatch': [{'@id': 'http://vocab.getty.edu/aat/300430351'}],\n",
       " 'nomo:sortEnInv': {'@type': 'http://www.w3.org/2001/XMLSchema#string',\n",
       "  '@value': '09050106802'},\n",
       " 'nomo:sortEn': {'@type': 'http://www.w3.org/2001/XMLSchema#string',\n",
       "  '@value': '09050106802'},\n",
       " 'nomo:sortFr': {'@type': 'http://www.w3.org/2001/XMLSchema#string',\n",
       "  '@value': '09050105403'},\n",
       " 'skos:broader': [{'@id': 'http://nomenclature.info/nom/14886'}],\n",
       " 'skos:inScheme': [{'@id': 'http://nomenclature.info/nom/'}],\n",
       " 'nomo:level': {'@type': 'http://www.w3.org/2001/XMLSchema#integer',\n",
       "  '@value': '5'}}"
      ]
     },
     "execution_count": 4,
     "metadata": {},
     "output_type": "execute_result"
    }
   ],
   "source": [
    "random_item = chenhall[42]\n",
    "random_item"
   ]
  },
  {
   "cell_type": "markdown",
   "metadata": {},
   "source": [
    "We know that the fully-formed \"Chair\" example has the id \"http://nomenclature.info/nom/1090\", so loop through the entire dataset and check each one to see if it has this id. Print out the index if it matches."
   ]
  },
  {
   "cell_type": "code",
   "execution_count": 5,
   "metadata": {
    "ExecuteTime": {
     "end_time": "2020-03-27T18:00:06.288115Z",
     "start_time": "2020-03-27T18:00:06.275654Z"
    }
   },
   "outputs": [
    {
     "name": "stdout",
     "output_type": "stream",
     "text": [
      "13843\n"
     ]
    }
   ],
   "source": [
    "for index, item in enumerate(chenhall):\n",
    "    item_id = item['@id']\n",
    "    if item_id == 'http://nomenclature.info/nom/1090':\n",
    "        print(index)"
   ]
  },
  {
   "cell_type": "markdown",
   "metadata": {},
   "source": [
    "Now that we know the index of chair, print out the contents of that item."
   ]
  },
  {
   "cell_type": "code",
   "execution_count": 6,
   "metadata": {
    "ExecuteTime": {
     "end_time": "2020-03-27T18:00:06.295796Z",
     "start_time": "2020-03-27T18:00:06.289531Z"
    }
   },
   "outputs": [
    {
     "data": {
      "text/plain": [
       "{'@context': {'nomo': 'http://nomenclature.info/nom/ontology/',\n",
       "  'skos': 'http://www.w3.org/2004/02/skos/core#',\n",
       "  'skos-xl': 'http://www.w3.org/2008/05/skos-xl#',\n",
       "  'dct': 'http://purl.org/dc/terms/',\n",
       "  'dc': 'http://purl.org/dc/elements/1.1/',\n",
       "  'rdf': 'http://www.w3.org/1999/02/22-rdf-syntax-ns#',\n",
       "  'foaf': 'http://xmlns.com/foaf/0.1/',\n",
       "  'owl': 'http://www.w3.org/2002/07/owl#',\n",
       "  'cs': 'http://purl.org/vocab/changeset/schema'},\n",
       " '@id': 'http://nomenclature.info/nom/1090',\n",
       " '@type': ['http://www.w3.org/2004/02/skos/core#Concept'],\n",
       " 'dc:identifier': [{'@type': 'http://www.w3.org/2001/XMLSchema#string',\n",
       "   '@value': '1090'}],\n",
       " 'skos:prefLabel': [{'@language': 'en', '@value': 'Chair'},\n",
       "  {'@language': 'es', '@value': 'Silla'},\n",
       "  {'@language': 'fr', '@value': 'Chaise'}],\n",
       " 'skos:hiddenLabel': [{'@language': 'fr', '@value': 'siège'}],\n",
       " 'nomo:Definition-Source': [{'@language': 'en',\n",
       "   '@value': 'Parks Canada Descriptive and Visual Dictionary of Objects'},\n",
       "  {'@language': 'fr',\n",
       "   '@value': \"Le Dictionnaire descriptif et visuel d'objets de Parcs Canada\"}],\n",
       " 'nomo:English-Term-Contributor': [{'@language': 'en',\n",
       "   '@value': 'American Association for State and Local History (AASLH)'},\n",
       "  {'@language': 'fr',\n",
       "   '@value': 'American Association for State and Local History (AASLH)'}],\n",
       " 'nomo:French-Term-Contributor': [{'@language': 'en',\n",
       "   '@value': 'Canadian Heritage Information Network (CHIN)'},\n",
       "  {'@language': 'fr',\n",
       "   '@value': 'Réseau canadien d’information sur le patrimoine (RCIP)'}],\n",
       " 'nomo:French-Term-Source': [{'@language': 'en',\n",
       "   '@value': 'Parks Canada Descriptive and Visual Dictionary of Objects'},\n",
       "  {'@language': 'fr',\n",
       "   '@value': 'Dictionnaire descriptif et visuel d’objets de Parcs Canada'}],\n",
       " 'nomo:English-Term-Source': [{'@language': 'en',\n",
       "   '@value': 'Nomenclature for Museum Cataloging'},\n",
       "  {'@language': 'fr',\n",
       "   '@value': 'Nomenclature pour le catalogage des objets de musée'}],\n",
       " 'nomo:French-Term-Gender': [{'@type': 'http://www.w3.org/2001/XMLSchema#string',\n",
       "   '@value': 'f.'}],\n",
       " 'nomo:Date-Added': [{'@language': 'en', '@value': '1978-2010'}],\n",
       " 'foaf:img': [{'@id': 'https://app.pch.gc.ca/public_info/nomenclature/images/02-00147.jpg'}],\n",
       " 'nomo:Image-Source': [{'@language': 'en',\n",
       "   '@value': 'Parks Canada Descriptive and Visual Dictionary of Objects'},\n",
       "  {'@language': 'fr',\n",
       "   '@value': \"Le Dictionnaire descriptif et visuel d'objets de Parcs Canada\"}],\n",
       " 'skos:exactMatch': [{'@id': 'http://fr.dbpedia.org/resource/Chaise'},\n",
       "  {'@id': 'http://dbpedia.org/resource/Chair'},\n",
       "  {'@id': 'http://vocab.getty.edu/aat/300037772'},\n",
       "  {'@id': 'http://data.culture.fr/thesaurus/resource/ark:/67717/T69-33'},\n",
       "  {'@id': 'http://www.wikidata.org/entity/Q15026'},\n",
       "  {'@id': 'https://d-nb.info/gnd/4058247-4'},\n",
       "  {'@id': 'https://data.bnf.fr/ark:/12148/cb12467435t'}],\n",
       " 'nomo:sortEnInv': {'@type': 'http://www.w3.org/2001/XMLSchema#string',\n",
       "  '@value': '020303003'},\n",
       " 'nomo:sortEn': {'@type': 'http://www.w3.org/2001/XMLSchema#string',\n",
       "  '@value': '020303003'},\n",
       " 'nomo:sortFr': {'@type': 'http://www.w3.org/2001/XMLSchema#string',\n",
       "  '@value': '020505005'},\n",
       " 'dct:modified': '2020-01-07T15:25:25.186Z',\n",
       " 'skos:broader': [{'@id': 'http://nomenclature.info/nom/1071'}],\n",
       " 'skos:narrower': [{'@id': 'http://nomenclature.info/nom/1091'},\n",
       "  {'@id': 'http://nomenclature.info/nom/1101'},\n",
       "  {'@id': 'http://nomenclature.info/nom/1102'},\n",
       "  {'@id': 'http://nomenclature.info/nom/1103'},\n",
       "  {'@id': 'http://nomenclature.info/nom/1104'},\n",
       "  {'@id': 'http://nomenclature.info/nom/1105'},\n",
       "  {'@id': 'http://nomenclature.info/nom/1108'},\n",
       "  {'@id': 'http://nomenclature.info/nom/1109'},\n",
       "  {'@id': 'http://nomenclature.info/nom/1110'},\n",
       "  {'@id': 'http://nomenclature.info/nom/1111'},\n",
       "  {'@id': 'http://nomenclature.info/nom/1112'},\n",
       "  {'@id': 'http://nomenclature.info/nom/1116'},\n",
       "  {'@id': 'http://nomenclature.info/nom/1117'},\n",
       "  {'@id': 'http://nomenclature.info/nom/1118'},\n",
       "  {'@id': 'http://nomenclature.info/nom/1119'},\n",
       "  {'@id': 'http://nomenclature.info/nom/1121'},\n",
       "  {'@id': 'http://nomenclature.info/nom/1122'},\n",
       "  {'@id': 'http://nomenclature.info/nom/1123'},\n",
       "  {'@id': 'http://nomenclature.info/nom/1126'},\n",
       "  {'@id': 'http://nomenclature.info/nom/1127'},\n",
       "  {'@id': 'http://nomenclature.info/nom/1128'},\n",
       "  {'@id': 'http://nomenclature.info/nom/1130'},\n",
       "  {'@id': 'http://nomenclature.info/nom/1131'},\n",
       "  {'@id': 'http://nomenclature.info/nom/1132'},\n",
       "  {'@id': 'http://nomenclature.info/nom/1133'},\n",
       "  {'@id': 'http://nomenclature.info/nom/1134'},\n",
       "  {'@id': 'http://nomenclature.info/nom/1135'},\n",
       "  {'@id': 'http://nomenclature.info/nom/1136'},\n",
       "  {'@id': 'http://nomenclature.info/nom/1137'},\n",
       "  {'@id': 'http://nomenclature.info/nom/1138'},\n",
       "  {'@id': 'http://nomenclature.info/nom/1139'},\n",
       "  {'@id': 'http://nomenclature.info/nom/1140'},\n",
       "  {'@id': 'http://nomenclature.info/nom/1142'},\n",
       "  {'@id': 'http://nomenclature.info/nom/1143'},\n",
       "  {'@id': 'http://nomenclature.info/nom/1144'}],\n",
       " 'skos:definition': [{'@language': 'fr',\n",
       "   '@value': 'Siège à une seule place, sur pieds, à dossier et sans accotoirs. Le siège et le dossier sont parfois rembourrés. \\nPermet à une personne de s’asseoir. (En anglais le terme chair représente un siège avec ou sans accotoirs).'},\n",
       "  {'@language': 'en',\n",
       "   '@value': 'A movable seat with a back and with or without arms. It is generally made of wood, usually has four legs for support and sometimes has\\xa0an upholstered seat and back. (In\\xa0French, the term chaise represents a seat without arms.)\\nUsed to seat one person.'}],\n",
       " 'skos:inScheme': [{'@id': 'http://nomenclature.info/nom/'}],\n",
       " 'nomo:level': {'@type': 'http://www.w3.org/2001/XMLSchema#integer',\n",
       "  '@value': '4'},\n",
       " 'skos:notation': [{'@language': 'en', '@value': '02-00147'}]}"
      ]
     },
     "execution_count": 6,
     "metadata": {},
     "output_type": "execute_result"
    }
   ],
   "source": [
    "chair = chenhall[13843]\n",
    "chair"
   ]
  },
  {
   "cell_type": "markdown",
   "metadata": {},
   "source": [
    "It looks like the \"Other references\" are listed in the \"skos:exactMatch\" section of the item."
   ]
  },
  {
   "cell_type": "code",
   "execution_count": 7,
   "metadata": {
    "ExecuteTime": {
     "end_time": "2020-03-27T18:00:06.302595Z",
     "start_time": "2020-03-27T18:00:06.298667Z"
    }
   },
   "outputs": [
    {
     "data": {
      "text/plain": [
       "[{'@id': 'http://fr.dbpedia.org/resource/Chaise'},\n",
       " {'@id': 'http://dbpedia.org/resource/Chair'},\n",
       " {'@id': 'http://vocab.getty.edu/aat/300037772'},\n",
       " {'@id': 'http://data.culture.fr/thesaurus/resource/ark:/67717/T69-33'},\n",
       " {'@id': 'http://www.wikidata.org/entity/Q15026'},\n",
       " {'@id': 'https://d-nb.info/gnd/4058247-4'},\n",
       " {'@id': 'https://data.bnf.fr/ark:/12148/cb12467435t'}]"
      ]
     },
     "execution_count": 7,
     "metadata": {},
     "output_type": "execute_result"
    }
   ],
   "source": [
    "chair_links = chair['skos:exactMatch']\n",
    "chair_links"
   ]
  },
  {
   "cell_type": "markdown",
   "metadata": {},
   "source": [
    "Split each URL by back-slashes, so that we can pull out just the domain."
   ]
  },
  {
   "cell_type": "code",
   "execution_count": 8,
   "metadata": {
    "ExecuteTime": {
     "end_time": "2020-03-27T18:00:06.308800Z",
     "start_time": "2020-03-27T18:00:06.303957Z"
    }
   },
   "outputs": [
    {
     "name": "stdout",
     "output_type": "stream",
     "text": [
      "http://fr.dbpedia.org/resource/Chaise fr.dbpedia.org\n",
      "http://dbpedia.org/resource/Chair dbpedia.org\n",
      "http://vocab.getty.edu/aat/300037772 vocab.getty.edu\n",
      "http://data.culture.fr/thesaurus/resource/ark:/67717/T69-33 data.culture.fr\n",
      "http://www.wikidata.org/entity/Q15026 www.wikidata.org\n",
      "https://d-nb.info/gnd/4058247-4 d-nb.info\n",
      "https://data.bnf.fr/ark:/12148/cb12467435t data.bnf.fr\n"
     ]
    }
   ],
   "source": [
    "for link in chair_links:\n",
    "    url = link['@id']\n",
    "    url_split = url.split('/')\n",
    "    url_domain = url_split[2]\n",
    "    print(url, url_domain)"
   ]
  },
  {
   "cell_type": "markdown",
   "metadata": {},
   "source": [
    "Now that we're able to pull out the domains for the chair example, run through all items in the list and do the same thing. I created a \"domain_count\" dictionary that will keep track of the number of times that each domain is encountered."
   ]
  },
  {
   "cell_type": "code",
   "execution_count": 9,
   "metadata": {
    "ExecuteTime": {
     "end_time": "2020-03-27T18:00:06.345578Z",
     "start_time": "2020-03-27T18:00:06.310235Z"
    }
   },
   "outputs": [
    {
     "name": "stdout",
     "output_type": "stream",
     "text": [
      "{'vocab.getty.edu': 14795, 'fr.dbpedia.org': 1, 'dbpedia.org': 1, 'data.culture.fr': 1, 'www.wikidata.org': 1, 'd-nb.info': 1, 'data.bnf.fr': 1}\n"
     ]
    }
   ],
   "source": [
    "domain_count = {}\n",
    "for item in chenhall:\n",
    "    if 'skos:exactMatch' in item:\n",
    "        item_links = item['skos:exactMatch']\n",
    "        for link in item_links:\n",
    "            url = link['@id']\n",
    "            url_split = url.split('/')\n",
    "            url_domain = url_split[2]\n",
    "            if url_domain not in domain_count:\n",
    "                domain_count[url_domain] = 1\n",
    "            else:\n",
    "                domain_count[url_domain] += 1\n",
    "print(domain_count)"
   ]
  },
  {
   "cell_type": "markdown",
   "metadata": {},
   "source": [
    "***Uh oh, it looks like the \"chair\" example is literally the only item in the entire dataset that has any outside reference other than AAT. Is this true?***"
   ]
  },
  {
   "cell_type": "code",
   "execution_count": null,
   "metadata": {},
   "outputs": [],
   "source": []
  }
 ],
 "metadata": {
  "kernelspec": {
   "display_name": "Python 3",
   "language": "python",
   "name": "python3"
  },
  "language_info": {
   "codemirror_mode": {
    "name": "ipython",
    "version": 3
   },
   "file_extension": ".py",
   "mimetype": "text/x-python",
   "name": "python",
   "nbconvert_exporter": "python",
   "pygments_lexer": "ipython3",
   "version": "3.7.1"
  }
 },
 "nbformat": 4,
 "nbformat_minor": 2
}
