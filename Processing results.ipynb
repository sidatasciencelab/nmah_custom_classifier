{
 "cells": [
  {
   "cell_type": "code",
   "execution_count": 1,
   "metadata": {
    "ExecuteTime": {
     "end_time": "2019-06-19T16:31:17.700423Z",
     "start_time": "2019-06-19T16:31:17.697349Z"
    }
   },
   "outputs": [],
   "source": [
    "import pandas as pd\n",
    "import numpy as np\n",
    "import json"
   ]
  },
  {
   "cell_type": "code",
   "execution_count": 2,
   "metadata": {
    "scrolled": true
   },
   "outputs": [
    {
     "data": {
      "text/html": [
       "<div>\n",
       "<style scoped>\n",
       "    .dataframe tbody tr th:only-of-type {\n",
       "        vertical-align: middle;\n",
       "    }\n",
       "\n",
       "    .dataframe tbody tr th {\n",
       "        vertical-align: top;\n",
       "    }\n",
       "\n",
       "    .dataframe thead th {\n",
       "        text-align: right;\n",
       "    }\n",
       "</style>\n",
       "<table border=\"1\" class=\"dataframe\">\n",
       "  <thead>\n",
       "    <tr style=\"text-align: right;\">\n",
       "      <th></th>\n",
       "      <th>MEDIA_ID</th>\n",
       "      <th>ID_NUMBER</th>\n",
       "      <th>MKEY</th>\n",
       "      <th>DIVISION</th>\n",
       "      <th>ITEM_NAME</th>\n",
       "      <th>IDS_DELIVERY_SERVICE_LINK</th>\n",
       "    </tr>\n",
       "  </thead>\n",
       "  <tbody>\n",
       "    <tr>\n",
       "      <th>0</th>\n",
       "      <td>NMAH-ET2013-17233/1000</td>\n",
       "      <td>AF.273382A</td>\n",
       "      <td>1179468</td>\n",
       "      <td>Armed Forces History</td>\n",
       "      <td>saddle</td>\n",
       "      <td>http://ids.si.edu/ids/deliveryService?id=NMAH-...</td>\n",
       "    </tr>\n",
       "    <tr>\n",
       "      <th>1</th>\n",
       "      <td>NMAH-ET2012-13891/1000</td>\n",
       "      <td>AF.32698</td>\n",
       "      <td>414569</td>\n",
       "      <td>Armed Forces History</td>\n",
       "      <td>carbine, percussion</td>\n",
       "      <td>http://ids.si.edu/ids/deliveryService?id=NMAH-...</td>\n",
       "    </tr>\n",
       "    <tr>\n",
       "      <th>2</th>\n",
       "      <td>NMAH-ET2010-31203-000003/1000</td>\n",
       "      <td>1985.0783.13</td>\n",
       "      <td>1300736</td>\n",
       "      <td>Armed Forces History</td>\n",
       "      <td>pistol, flintlock</td>\n",
       "      <td>http://ids.si.edu/ids/deliveryService?id=NMAH-...</td>\n",
       "    </tr>\n",
       "    <tr>\n",
       "      <th>3</th>\n",
       "      <td>NMAH-AHB2016q015002/1000</td>\n",
       "      <td>2011.0086.02</td>\n",
       "      <td>1591187</td>\n",
       "      <td>Armed Forces History</td>\n",
       "      <td>cocktail napkin</td>\n",
       "      <td>http://ids.si.edu/ids/deliveryService?id=NMAH-...</td>\n",
       "    </tr>\n",
       "    <tr>\n",
       "      <th>4</th>\n",
       "      <td>NMAH-ET2013-15604/1000</td>\n",
       "      <td>AF.5854</td>\n",
       "      <td>457584</td>\n",
       "      <td>Armed Forces History</td>\n",
       "      <td>hat</td>\n",
       "      <td>http://ids.si.edu/ids/deliveryService?id=NMAH-...</td>\n",
       "    </tr>\n",
       "  </tbody>\n",
       "</table>\n",
       "</div>"
      ],
      "text/plain": [
       "                        MEDIA_ID     ID_NUMBER     MKEY              DIVISION  \\\n",
       "0         NMAH-ET2013-17233/1000    AF.273382A  1179468  Armed Forces History   \n",
       "1         NMAH-ET2012-13891/1000      AF.32698   414569  Armed Forces History   \n",
       "2  NMAH-ET2010-31203-000003/1000  1985.0783.13  1300736  Armed Forces History   \n",
       "3       NMAH-AHB2016q015002/1000  2011.0086.02  1591187  Armed Forces History   \n",
       "4         NMAH-ET2013-15604/1000       AF.5854   457584  Armed Forces History   \n",
       "\n",
       "             ITEM_NAME                          IDS_DELIVERY_SERVICE_LINK  \n",
       "0               saddle  http://ids.si.edu/ids/deliveryService?id=NMAH-...  \n",
       "1  carbine, percussion  http://ids.si.edu/ids/deliveryService?id=NMAH-...  \n",
       "2    pistol, flintlock  http://ids.si.edu/ids/deliveryService?id=NMAH-...  \n",
       "3      cocktail napkin  http://ids.si.edu/ids/deliveryService?id=NMAH-...  \n",
       "4                  hat  http://ids.si.edu/ids/deliveryService?id=NMAH-...  "
      ]
     },
     "execution_count": 2,
     "metadata": {},
     "output_type": "execute_result"
    }
   ],
   "source": [
    "original1 = pd.read_excel('raw_data/Google Vision Random Sample Report_Set1_04_2019.xls')\n",
    "original1.head()"
   ]
  },
  {
   "cell_type": "code",
   "execution_count": 3,
   "metadata": {},
   "outputs": [
    {
     "data": {
      "text/html": [
       "<div>\n",
       "<style scoped>\n",
       "    .dataframe tbody tr th:only-of-type {\n",
       "        vertical-align: middle;\n",
       "    }\n",
       "\n",
       "    .dataframe tbody tr th {\n",
       "        vertical-align: top;\n",
       "    }\n",
       "\n",
       "    .dataframe thead th {\n",
       "        text-align: right;\n",
       "    }\n",
       "</style>\n",
       "<table border=\"1\" class=\"dataframe\">\n",
       "  <thead>\n",
       "    <tr style=\"text-align: right;\">\n",
       "      <th></th>\n",
       "      <th>MEDIA_ID</th>\n",
       "      <th>ID_NUMBER</th>\n",
       "      <th>MKEY</th>\n",
       "      <th>DIVISION</th>\n",
       "      <th>ITEM_NAME</th>\n",
       "      <th>IDS_DELIVERY_SERVICE_LINK</th>\n",
       "    </tr>\n",
       "  </thead>\n",
       "  <tbody>\n",
       "    <tr>\n",
       "      <th>0</th>\n",
       "      <td>NMAH-JN2015-5154/1000</td>\n",
       "      <td>AF.32010</td>\n",
       "      <td>434865</td>\n",
       "      <td>Armed Forces History</td>\n",
       "      <td>sword</td>\n",
       "      <td>http://ids.si.edu/ids/deliveryService?id=NMAH-...</td>\n",
       "    </tr>\n",
       "    <tr>\n",
       "      <th>1</th>\n",
       "      <td>NMAH-ET2012-13907/1000</td>\n",
       "      <td>AF.67880M</td>\n",
       "      <td>881516</td>\n",
       "      <td>Armed Forces History</td>\n",
       "      <td>rifle</td>\n",
       "      <td>http://ids.si.edu/ids/deliveryService?id=NMAH-...</td>\n",
       "    </tr>\n",
       "    <tr>\n",
       "      <th>2</th>\n",
       "      <td>NMAH-AHB2017ps00007/1000</td>\n",
       "      <td>AF.25697</td>\n",
       "      <td>448077</td>\n",
       "      <td>Armed Forces History</td>\n",
       "      <td>sketch</td>\n",
       "      <td>http://ids.si.edu/ids/deliveryService?id=NMAH-...</td>\n",
       "    </tr>\n",
       "    <tr>\n",
       "      <th>3</th>\n",
       "      <td>NMAH-AHB2016q069113/1000</td>\n",
       "      <td>ZZ.RSN83554R15</td>\n",
       "      <td>1818319</td>\n",
       "      <td>Armed Forces History</td>\n",
       "      <td>reel of electric cable, boxed</td>\n",
       "      <td>http://ids.si.edu/ids/deliveryService?id=NMAH-...</td>\n",
       "    </tr>\n",
       "    <tr>\n",
       "      <th>4</th>\n",
       "      <td>NMAH-AHB2014q019216/1000</td>\n",
       "      <td>2013.3101.34</td>\n",
       "      <td>1452066</td>\n",
       "      <td>Armed Forces History</td>\n",
       "      <td>photograph</td>\n",
       "      <td>http://ids.si.edu/ids/deliveryService?id=NMAH-...</td>\n",
       "    </tr>\n",
       "  </tbody>\n",
       "</table>\n",
       "</div>"
      ],
      "text/plain": [
       "                   MEDIA_ID       ID_NUMBER     MKEY              DIVISION  \\\n",
       "0     NMAH-JN2015-5154/1000        AF.32010   434865  Armed Forces History   \n",
       "1    NMAH-ET2012-13907/1000       AF.67880M   881516  Armed Forces History   \n",
       "2  NMAH-AHB2017ps00007/1000        AF.25697   448077  Armed Forces History   \n",
       "3  NMAH-AHB2016q069113/1000  ZZ.RSN83554R15  1818319  Armed Forces History   \n",
       "4  NMAH-AHB2014q019216/1000    2013.3101.34  1452066  Armed Forces History   \n",
       "\n",
       "                       ITEM_NAME  \\\n",
       "0                          sword   \n",
       "1                          rifle   \n",
       "2                         sketch   \n",
       "3  reel of electric cable, boxed   \n",
       "4                     photograph   \n",
       "\n",
       "                           IDS_DELIVERY_SERVICE_LINK  \n",
       "0  http://ids.si.edu/ids/deliveryService?id=NMAH-...  \n",
       "1  http://ids.si.edu/ids/deliveryService?id=NMAH-...  \n",
       "2  http://ids.si.edu/ids/deliveryService?id=NMAH-...  \n",
       "3  http://ids.si.edu/ids/deliveryService?id=NMAH-...  \n",
       "4  http://ids.si.edu/ids/deliveryService?id=NMAH-...  "
      ]
     },
     "execution_count": 3,
     "metadata": {},
     "output_type": "execute_result"
    }
   ],
   "source": [
    "original2 = pd.read_excel('raw_data/Google Vision Random Sample Report_Set2_04_2019.xls')\n",
    "original2.head()"
   ]
  },
  {
   "cell_type": "code",
   "execution_count": 4,
   "metadata": {},
   "outputs": [
    {
     "data": {
      "text/html": [
       "<div>\n",
       "<style scoped>\n",
       "    .dataframe tbody tr th:only-of-type {\n",
       "        vertical-align: middle;\n",
       "    }\n",
       "\n",
       "    .dataframe tbody tr th {\n",
       "        vertical-align: top;\n",
       "    }\n",
       "\n",
       "    .dataframe thead th {\n",
       "        text-align: right;\n",
       "    }\n",
       "</style>\n",
       "<table border=\"1\" class=\"dataframe\">\n",
       "  <thead>\n",
       "    <tr style=\"text-align: right;\">\n",
       "      <th></th>\n",
       "      <th>MEDIA_ID</th>\n",
       "      <th>ID_NUMBER</th>\n",
       "      <th>MKEY</th>\n",
       "      <th>DIVISION</th>\n",
       "      <th>ITEM_NAME</th>\n",
       "      <th>IDS_DELIVERY_SERVICE_LINK</th>\n",
       "    </tr>\n",
       "  </thead>\n",
       "  <tbody>\n",
       "    <tr>\n",
       "      <th>1884</th>\n",
       "      <td>NMAH-AHB2013q044200/1000</td>\n",
       "      <td>MC.314686.0227</td>\n",
       "      <td>1437632</td>\n",
       "      <td>Work and Industry</td>\n",
       "      <td>buckle, slide</td>\n",
       "      <td>http://ids.si.edu/ids/deliveryService?id=NMAH-...</td>\n",
       "    </tr>\n",
       "    <tr>\n",
       "      <th>1885</th>\n",
       "      <td>NMAH-NMAH2005-18423-000001/1000</td>\n",
       "      <td>EM.328789</td>\n",
       "      <td>1288388</td>\n",
       "      <td>Work and Industry</td>\n",
       "      <td>television transmitting tube</td>\n",
       "      <td>http://ids.si.edu/ids/deliveryService?id=NMAH-...</td>\n",
       "    </tr>\n",
       "    <tr>\n",
       "      <th>1886</th>\n",
       "      <td>NMAH-AHB2013q045001/1000</td>\n",
       "      <td>MC.314686.0392</td>\n",
       "      <td>1438425</td>\n",
       "      <td>Work and Industry</td>\n",
       "      <td>buckle</td>\n",
       "      <td>http://ids.si.edu/ids/deliveryService?id=NMAH-...</td>\n",
       "    </tr>\n",
       "    <tr>\n",
       "      <th>1887</th>\n",
       "      <td>NMAH-RWS2011-03613/1000</td>\n",
       "      <td>ME.287654.11</td>\n",
       "      <td>852778</td>\n",
       "      <td>Work and Industry</td>\n",
       "      <td>experimental disc sound recording, glass</td>\n",
       "      <td>http://ids.si.edu/ids/deliveryService?id=NMAH-...</td>\n",
       "    </tr>\n",
       "    <tr>\n",
       "      <th>1888</th>\n",
       "      <td>NMAH-2007-13332/1000</td>\n",
       "      <td>TR.335440</td>\n",
       "      <td>841602</td>\n",
       "      <td>Work and Industry</td>\n",
       "      <td>lantern, hand signal</td>\n",
       "      <td>http://ids.si.edu/ids/deliveryService?id=NMAH-...</td>\n",
       "    </tr>\n",
       "  </tbody>\n",
       "</table>\n",
       "</div>"
      ],
      "text/plain": [
       "                             MEDIA_ID       ID_NUMBER     MKEY  \\\n",
       "1884         NMAH-AHB2013q044200/1000  MC.314686.0227  1437632   \n",
       "1885  NMAH-NMAH2005-18423-000001/1000       EM.328789  1288388   \n",
       "1886         NMAH-AHB2013q045001/1000  MC.314686.0392  1438425   \n",
       "1887          NMAH-RWS2011-03613/1000    ME.287654.11   852778   \n",
       "1888             NMAH-2007-13332/1000       TR.335440   841602   \n",
       "\n",
       "               DIVISION                                 ITEM_NAME  \\\n",
       "1884  Work and Industry                             buckle, slide   \n",
       "1885  Work and Industry              television transmitting tube   \n",
       "1886  Work and Industry                                    buckle   \n",
       "1887  Work and Industry  experimental disc sound recording, glass   \n",
       "1888  Work and Industry                      lantern, hand signal   \n",
       "\n",
       "                              IDS_DELIVERY_SERVICE_LINK  \n",
       "1884  http://ids.si.edu/ids/deliveryService?id=NMAH-...  \n",
       "1885  http://ids.si.edu/ids/deliveryService?id=NMAH-...  \n",
       "1886  http://ids.si.edu/ids/deliveryService?id=NMAH-...  \n",
       "1887  http://ids.si.edu/ids/deliveryService?id=NMAH-...  \n",
       "1888  http://ids.si.edu/ids/deliveryService?id=NMAH-...  "
      ]
     },
     "execution_count": 4,
     "metadata": {},
     "output_type": "execute_result"
    }
   ],
   "source": [
    "combined_original = pd.concat([original1, original2], ignore_index=True)\n",
    "combined_original.tail()"
   ]
  },
  {
   "cell_type": "code",
   "execution_count": 5,
   "metadata": {},
   "outputs": [
    {
     "data": {
      "text/html": [
       "<div>\n",
       "<style scoped>\n",
       "    .dataframe tbody tr th:only-of-type {\n",
       "        vertical-align: middle;\n",
       "    }\n",
       "\n",
       "    .dataframe tbody tr th {\n",
       "        vertical-align: top;\n",
       "    }\n",
       "\n",
       "    .dataframe thead th {\n",
       "        text-align: right;\n",
       "    }\n",
       "</style>\n",
       "<table border=\"1\" class=\"dataframe\">\n",
       "  <thead>\n",
       "    <tr style=\"text-align: right;\">\n",
       "      <th></th>\n",
       "      <th>MEDIA_ID</th>\n",
       "      <th>ID_NUMBER</th>\n",
       "      <th>MKEY</th>\n",
       "      <th>DIVISION</th>\n",
       "      <th>ITEM_NAME</th>\n",
       "      <th>IDS_DELIVERY_SERVICE_LINK</th>\n",
       "    </tr>\n",
       "  </thead>\n",
       "  <tbody>\n",
       "    <tr>\n",
       "      <th>0</th>\n",
       "      <td>NMAH-ET2013-17233</td>\n",
       "      <td>AF.273382A</td>\n",
       "      <td>1179468</td>\n",
       "      <td>Armed Forces History</td>\n",
       "      <td>saddle</td>\n",
       "      <td>http://ids.si.edu/ids/deliveryService?id=NMAH-...</td>\n",
       "    </tr>\n",
       "    <tr>\n",
       "      <th>1</th>\n",
       "      <td>NMAH-ET2012-13891</td>\n",
       "      <td>AF.32698</td>\n",
       "      <td>414569</td>\n",
       "      <td>Armed Forces History</td>\n",
       "      <td>carbine, percussion</td>\n",
       "      <td>http://ids.si.edu/ids/deliveryService?id=NMAH-...</td>\n",
       "    </tr>\n",
       "    <tr>\n",
       "      <th>2</th>\n",
       "      <td>NMAH-ET2010-31203-000003</td>\n",
       "      <td>1985.0783.13</td>\n",
       "      <td>1300736</td>\n",
       "      <td>Armed Forces History</td>\n",
       "      <td>pistol, flintlock</td>\n",
       "      <td>http://ids.si.edu/ids/deliveryService?id=NMAH-...</td>\n",
       "    </tr>\n",
       "    <tr>\n",
       "      <th>3</th>\n",
       "      <td>NMAH-AHB2016q015002</td>\n",
       "      <td>2011.0086.02</td>\n",
       "      <td>1591187</td>\n",
       "      <td>Armed Forces History</td>\n",
       "      <td>cocktail napkin</td>\n",
       "      <td>http://ids.si.edu/ids/deliveryService?id=NMAH-...</td>\n",
       "    </tr>\n",
       "    <tr>\n",
       "      <th>4</th>\n",
       "      <td>NMAH-ET2013-15604</td>\n",
       "      <td>AF.5854</td>\n",
       "      <td>457584</td>\n",
       "      <td>Armed Forces History</td>\n",
       "      <td>hat</td>\n",
       "      <td>http://ids.si.edu/ids/deliveryService?id=NMAH-...</td>\n",
       "    </tr>\n",
       "  </tbody>\n",
       "</table>\n",
       "</div>"
      ],
      "text/plain": [
       "                   MEDIA_ID     ID_NUMBER     MKEY              DIVISION  \\\n",
       "0         NMAH-ET2013-17233    AF.273382A  1179468  Armed Forces History   \n",
       "1         NMAH-ET2012-13891      AF.32698   414569  Armed Forces History   \n",
       "2  NMAH-ET2010-31203-000003  1985.0783.13  1300736  Armed Forces History   \n",
       "3       NMAH-AHB2016q015002  2011.0086.02  1591187  Armed Forces History   \n",
       "4         NMAH-ET2013-15604       AF.5854   457584  Armed Forces History   \n",
       "\n",
       "             ITEM_NAME                          IDS_DELIVERY_SERVICE_LINK  \n",
       "0               saddle  http://ids.si.edu/ids/deliveryService?id=NMAH-...  \n",
       "1  carbine, percussion  http://ids.si.edu/ids/deliveryService?id=NMAH-...  \n",
       "2    pistol, flintlock  http://ids.si.edu/ids/deliveryService?id=NMAH-...  \n",
       "3      cocktail napkin  http://ids.si.edu/ids/deliveryService?id=NMAH-...  \n",
       "4                  hat  http://ids.si.edu/ids/deliveryService?id=NMAH-...  "
      ]
     },
     "execution_count": 5,
     "metadata": {},
     "output_type": "execute_result"
    }
   ],
   "source": [
    "combined_original['MEDIA_ID'] = combined_original['IDS_DELIVERY_SERVICE_LINK'].str.split('=').str.get(1)\n",
    "combined_original.head()"
   ]
  },
  {
   "cell_type": "code",
   "execution_count": 6,
   "metadata": {},
   "outputs": [
    {
     "name": "stdout",
     "output_type": "stream",
     "text": [
      "<class 'pandas.core.frame.DataFrame'>\n",
      "RangeIndex: 1889 entries, 0 to 1888\n",
      "Data columns (total 6 columns):\n",
      "MEDIA_ID                     1889 non-null object\n",
      "ID_NUMBER                    1889 non-null object\n",
      "MKEY                         1889 non-null int64\n",
      "DIVISION                     1889 non-null object\n",
      "ITEM_NAME                    1889 non-null object\n",
      "IDS_DELIVERY_SERVICE_LINK    1889 non-null object\n",
      "dtypes: int64(1), object(5)\n",
      "memory usage: 88.6+ KB\n"
     ]
    }
   ],
   "source": [
    "combined_original.info()"
   ]
  },
  {
   "cell_type": "code",
   "execution_count": 7,
   "metadata": {},
   "outputs": [
    {
     "name": "stdout",
     "output_type": "stream",
     "text": [
      "<class 'pandas.core.frame.DataFrame'>\n",
      "Int64Index: 1374 entries, 2 to 1888\n",
      "Data columns (total 6 columns):\n",
      "MEDIA_ID                     1374 non-null object\n",
      "ID_NUMBER                    1374 non-null object\n",
      "MKEY                         1374 non-null int64\n",
      "DIVISION                     1374 non-null object\n",
      "ITEM_NAME                    1374 non-null object\n",
      "IDS_DELIVERY_SERVICE_LINK    1374 non-null object\n",
      "dtypes: int64(1), object(5)\n",
      "memory usage: 75.1+ KB\n"
     ]
    }
   ],
   "source": [
    "combined_original = combined_original.drop_duplicates(subset='MEDIA_ID', keep=False)\n",
    "combined_original.info()"
   ]
  },
  {
   "cell_type": "code",
   "execution_count": 8,
   "metadata": {
    "ExecuteTime": {
     "end_time": "2019-06-19T16:30:39.873009Z",
     "start_time": "2019-06-19T16:30:39.718084Z"
    }
   },
   "outputs": [],
   "source": [
    "with open('google_results.json') as goog:\n",
    "    google_results = json.load(goog)"
   ]
  },
  {
   "cell_type": "code",
   "execution_count": 9,
   "metadata": {
    "ExecuteTime": {
     "end_time": "2019-06-19T16:31:33.111894Z",
     "start_time": "2019-06-19T16:31:33.093382Z"
    }
   },
   "outputs": [
    {
     "data": {
      "text/html": [
       "<div>\n",
       "<style scoped>\n",
       "    .dataframe tbody tr th:only-of-type {\n",
       "        vertical-align: middle;\n",
       "    }\n",
       "\n",
       "    .dataframe tbody tr th {\n",
       "        vertical-align: top;\n",
       "    }\n",
       "\n",
       "    .dataframe thead th {\n",
       "        text-align: right;\n",
       "    }\n",
       "</style>\n",
       "<table border=\"1\" class=\"dataframe\">\n",
       "  <thead>\n",
       "    <tr style=\"text-align: right;\">\n",
       "      <th></th>\n",
       "      <th>google_api_time</th>\n",
       "      <th>google_label1</th>\n",
       "      <th>google_label2</th>\n",
       "      <th>google_label3</th>\n",
       "      <th>google_score1</th>\n",
       "      <th>google_score2</th>\n",
       "      <th>google_score3</th>\n",
       "      <th>image_id</th>\n",
       "    </tr>\n",
       "  </thead>\n",
       "  <tbody>\n",
       "    <tr>\n",
       "      <th>0</th>\n",
       "      <td>1.009376</td>\n",
       "      <td>Art</td>\n",
       "      <td>Painting</td>\n",
       "      <td>Drawing</td>\n",
       "      <td>0.785616</td>\n",
       "      <td>0.709123</td>\n",
       "      <td>0.690990</td>\n",
       "      <td>NMAH-2000-10424</td>\n",
       "    </tr>\n",
       "    <tr>\n",
       "      <th>1</th>\n",
       "      <td>2.587880</td>\n",
       "      <td>Clothing</td>\n",
       "      <td>Coat</td>\n",
       "      <td>Outerwear</td>\n",
       "      <td>0.979938</td>\n",
       "      <td>0.877070</td>\n",
       "      <td>0.860473</td>\n",
       "      <td>NMAH-2000-3033</td>\n",
       "    </tr>\n",
       "    <tr>\n",
       "      <th>2</th>\n",
       "      <td>1.592763</td>\n",
       "      <td>Cap</td>\n",
       "      <td>Yellow</td>\n",
       "      <td>Logo</td>\n",
       "      <td>0.900309</td>\n",
       "      <td>0.864945</td>\n",
       "      <td>0.851652</td>\n",
       "      <td>NMAH-2000-4144</td>\n",
       "    </tr>\n",
       "    <tr>\n",
       "      <th>3</th>\n",
       "      <td>1.708317</td>\n",
       "      <td>Drum</td>\n",
       "      <td>Figurine</td>\n",
       "      <td>Glass</td>\n",
       "      <td>0.582271</td>\n",
       "      <td>0.540076</td>\n",
       "      <td>0.537974</td>\n",
       "      <td>NMAH-2000-7105</td>\n",
       "    </tr>\n",
       "    <tr>\n",
       "      <th>4</th>\n",
       "      <td>2.030044</td>\n",
       "      <td>Font</td>\n",
       "      <td>Text</td>\n",
       "      <td>Banner</td>\n",
       "      <td>0.964119</td>\n",
       "      <td>0.928794</td>\n",
       "      <td>0.657362</td>\n",
       "      <td>NMAH-2000-7798</td>\n",
       "    </tr>\n",
       "  </tbody>\n",
       "</table>\n",
       "</div>"
      ],
      "text/plain": [
       "   google_api_time google_label1 google_label2 google_label3  google_score1  \\\n",
       "0         1.009376           Art      Painting       Drawing       0.785616   \n",
       "1         2.587880      Clothing          Coat     Outerwear       0.979938   \n",
       "2         1.592763           Cap        Yellow          Logo       0.900309   \n",
       "3         1.708317          Drum      Figurine         Glass       0.582271   \n",
       "4         2.030044          Font          Text        Banner       0.964119   \n",
       "\n",
       "   google_score2  google_score3         image_id  \n",
       "0       0.709123       0.690990  NMAH-2000-10424  \n",
       "1       0.877070       0.860473   NMAH-2000-3033  \n",
       "2       0.864945       0.851652   NMAH-2000-4144  \n",
       "3       0.540076       0.537974   NMAH-2000-7105  \n",
       "4       0.928794       0.657362   NMAH-2000-7798  "
      ]
     },
     "execution_count": 9,
     "metadata": {},
     "output_type": "execute_result"
    }
   ],
   "source": [
    "label_results = []\n",
    "for result in google_results:\n",
    "    result_dict = {}\n",
    "    result_dict['image_id'] = result['image_id']\n",
    "    result_dict['google_api_time'] = result['elapsed_time']\n",
    "    if 'label_annotations' in result:\n",
    "        labels = result['label_annotations']\n",
    "        for number, hit in enumerate(labels[:3], start=1):\n",
    "            result_dict['google_label'+str(number)] = hit['description']\n",
    "            result_dict['google_score'+str(number)] = hit['score']\n",
    "    label_results.append(result_dict)\n",
    "google_df = pd.DataFrame(label_results)\n",
    "google_df.head()\n",
    "    "
   ]
  },
  {
   "cell_type": "code",
   "execution_count": 10,
   "metadata": {},
   "outputs": [
    {
     "data": {
      "text/plain": [
       "1554"
      ]
     },
     "execution_count": 10,
     "metadata": {},
     "output_type": "execute_result"
    }
   ],
   "source": [
    "google_df['image_id'].nunique()"
   ]
  },
  {
   "cell_type": "code",
   "execution_count": 11,
   "metadata": {},
   "outputs": [
    {
     "name": "stdout",
     "output_type": "stream",
     "text": [
      "<class 'pandas.core.frame.DataFrame'>\n",
      "RangeIndex: 1554 entries, 0 to 1553\n",
      "Data columns (total 8 columns):\n",
      "google_api_time    1554 non-null float64\n",
      "google_label1      1527 non-null object\n",
      "google_label2      1451 non-null object\n",
      "google_label3      1342 non-null object\n",
      "google_score1      1527 non-null float64\n",
      "google_score2      1451 non-null float64\n",
      "google_score3      1342 non-null float64\n",
      "image_id           1554 non-null object\n",
      "dtypes: float64(4), object(4)\n",
      "memory usage: 97.2+ KB\n"
     ]
    }
   ],
   "source": [
    "google_df.info()"
   ]
  },
  {
   "cell_type": "code",
   "execution_count": 12,
   "metadata": {
    "ExecuteTime": {
     "end_time": "2019-06-19T16:32:01.181446Z",
     "start_time": "2019-06-19T16:32:01.163186Z"
    }
   },
   "outputs": [],
   "source": [
    "google_df.to_csv('google_top_hits.tsv', index=False, sep='\\t')"
   ]
  },
  {
   "cell_type": "code",
   "execution_count": 13,
   "metadata": {
    "ExecuteTime": {
     "end_time": "2019-06-19T16:32:25.955305Z",
     "start_time": "2019-06-19T16:32:25.950134Z"
    }
   },
   "outputs": [
    {
     "data": {
      "text/plain": [
       "2.0624512522175737"
      ]
     },
     "execution_count": 13,
     "metadata": {},
     "output_type": "execute_result"
    }
   ],
   "source": [
    "google_df['google_api_time'].mean()"
   ]
  },
  {
   "cell_type": "code",
   "execution_count": 14,
   "metadata": {
    "ExecuteTime": {
     "end_time": "2019-06-19T16:32:34.363458Z",
     "start_time": "2019-06-19T16:32:34.358553Z"
    }
   },
   "outputs": [
    {
     "data": {
      "text/plain": [
       "3205.0492459461093"
      ]
     },
     "execution_count": 14,
     "metadata": {},
     "output_type": "execute_result"
    }
   ],
   "source": [
    "google_df['google_api_time'].sum()"
   ]
  },
  {
   "cell_type": "code",
   "execution_count": 15,
   "metadata": {},
   "outputs": [],
   "source": [
    "for model in ['inception','resnet','vgg']:\n",
    "    results_file = 'keras_results_{}.json'.format(model)\n",
    "    with open(results_file) as file_handle:\n",
    "        label_results = json.load(file_handle)\n",
    "        keras_results = []\n",
    "        for label_result in label_results:\n",
    "            result_dict = {'image_id':label_result['image_id'],\n",
    "                           model + '_time': label_result['elapsed_time']}\n",
    "            labels = label_result['predictions']\n",
    "            for number, hit in enumerate(labels[:3], start=1):\n",
    "                result_dict['{}_label{}'.format(model, number)] = hit['label']\n",
    "                result_dict['{}_score{}'.format(model, number)] = hit['confidence']\n",
    "            keras_results.append(result_dict)\n",
    "        keras_df = pd.DataFrame(keras_results)\n",
    "        keras_df.to_csv('keras_results_{}.tsv'.format(model), index=False, sep='\\t')\n",
    "                "
   ]
  },
  {
   "cell_type": "code",
   "execution_count": 16,
   "metadata": {
    "ExecuteTime": {
     "end_time": "2019-06-19T16:33:31.313297Z",
     "start_time": "2019-06-19T16:33:31.300344Z"
    }
   },
   "outputs": [
    {
     "data": {
      "text/html": [
       "<div>\n",
       "<style scoped>\n",
       "    .dataframe tbody tr th:only-of-type {\n",
       "        vertical-align: middle;\n",
       "    }\n",
       "\n",
       "    .dataframe tbody tr th {\n",
       "        vertical-align: top;\n",
       "    }\n",
       "\n",
       "    .dataframe thead th {\n",
       "        text-align: right;\n",
       "    }\n",
       "</style>\n",
       "<table border=\"1\" class=\"dataframe\">\n",
       "  <thead>\n",
       "    <tr style=\"text-align: right;\">\n",
       "      <th></th>\n",
       "      <th>image_id</th>\n",
       "      <th>inception_label1</th>\n",
       "      <th>inception_label2</th>\n",
       "      <th>inception_label3</th>\n",
       "      <th>inception_score1</th>\n",
       "      <th>inception_score2</th>\n",
       "      <th>inception_score3</th>\n",
       "      <th>inception_time</th>\n",
       "    </tr>\n",
       "  </thead>\n",
       "  <tbody>\n",
       "    <tr>\n",
       "      <th>0</th>\n",
       "      <td>NMAH-RWS2014-02463</td>\n",
       "      <td>vase</td>\n",
       "      <td>sax</td>\n",
       "      <td>knee_pad</td>\n",
       "      <td>0.940898</td>\n",
       "      <td>2.864522e-02</td>\n",
       "      <td>5.646671e-03</td>\n",
       "      <td>5.039866</td>\n",
       "    </tr>\n",
       "    <tr>\n",
       "      <th>1</th>\n",
       "      <td>NMAH-AHB2017q051349</td>\n",
       "      <td>web_site</td>\n",
       "      <td>stole</td>\n",
       "      <td>sock</td>\n",
       "      <td>1.000000</td>\n",
       "      <td>2.084866e-12</td>\n",
       "      <td>4.749108e-15</td>\n",
       "      <td>0.172880</td>\n",
       "    </tr>\n",
       "    <tr>\n",
       "      <th>2</th>\n",
       "      <td>NMAH-AHB2016q019017</td>\n",
       "      <td>web_site</td>\n",
       "      <td>pitcher</td>\n",
       "      <td>nematode</td>\n",
       "      <td>1.000000</td>\n",
       "      <td>1.646212e-10</td>\n",
       "      <td>7.085857e-12</td>\n",
       "      <td>0.165391</td>\n",
       "    </tr>\n",
       "    <tr>\n",
       "      <th>3</th>\n",
       "      <td>NMAH-AHB2012q01865</td>\n",
       "      <td>web_site</td>\n",
       "      <td>toilet_tissue</td>\n",
       "      <td>sea_urchin</td>\n",
       "      <td>1.000000</td>\n",
       "      <td>0.000000e+00</td>\n",
       "      <td>0.000000e+00</td>\n",
       "      <td>0.178968</td>\n",
       "    </tr>\n",
       "    <tr>\n",
       "      <th>4</th>\n",
       "      <td>NMAH-JN2013-1822</td>\n",
       "      <td>web_site</td>\n",
       "      <td>pitcher</td>\n",
       "      <td>stopwatch</td>\n",
       "      <td>0.999967</td>\n",
       "      <td>3.203696e-05</td>\n",
       "      <td>1.294335e-06</td>\n",
       "      <td>0.157865</td>\n",
       "    </tr>\n",
       "  </tbody>\n",
       "</table>\n",
       "</div>"
      ],
      "text/plain": [
       "              image_id inception_label1 inception_label2 inception_label3  \\\n",
       "0   NMAH-RWS2014-02463             vase              sax         knee_pad   \n",
       "1  NMAH-AHB2017q051349         web_site            stole             sock   \n",
       "2  NMAH-AHB2016q019017         web_site          pitcher         nematode   \n",
       "3   NMAH-AHB2012q01865         web_site    toilet_tissue       sea_urchin   \n",
       "4     NMAH-JN2013-1822         web_site          pitcher        stopwatch   \n",
       "\n",
       "   inception_score1  inception_score2  inception_score3  inception_time  \n",
       "0          0.940898      2.864522e-02      5.646671e-03        5.039866  \n",
       "1          1.000000      2.084866e-12      4.749108e-15        0.172880  \n",
       "2          1.000000      1.646212e-10      7.085857e-12        0.165391  \n",
       "3          1.000000      0.000000e+00      0.000000e+00        0.178968  \n",
       "4          0.999967      3.203696e-05      1.294335e-06        0.157865  "
      ]
     },
     "execution_count": 16,
     "metadata": {},
     "output_type": "execute_result"
    }
   ],
   "source": [
    "inception_df = pd.read_csv('keras_results_inception.tsv', sep='\\t')\n",
    "inception_df.head()"
   ]
  },
  {
   "cell_type": "code",
   "execution_count": 17,
   "metadata": {
    "ExecuteTime": {
     "end_time": "2019-06-19T16:37:04.259176Z",
     "start_time": "2019-06-19T16:37:04.242312Z"
    }
   },
   "outputs": [
    {
     "data": {
      "text/html": [
       "<div>\n",
       "<style scoped>\n",
       "    .dataframe tbody tr th:only-of-type {\n",
       "        vertical-align: middle;\n",
       "    }\n",
       "\n",
       "    .dataframe tbody tr th {\n",
       "        vertical-align: top;\n",
       "    }\n",
       "\n",
       "    .dataframe thead th {\n",
       "        text-align: right;\n",
       "    }\n",
       "</style>\n",
       "<table border=\"1\" class=\"dataframe\">\n",
       "  <thead>\n",
       "    <tr style=\"text-align: right;\">\n",
       "      <th></th>\n",
       "      <th>image_id</th>\n",
       "      <th>inception_label1</th>\n",
       "      <th>inception_label2</th>\n",
       "      <th>inception_label3</th>\n",
       "      <th>inception_score1</th>\n",
       "      <th>inception_score2</th>\n",
       "      <th>inception_score3</th>\n",
       "      <th>inception_time</th>\n",
       "      <th>resnet_label1</th>\n",
       "      <th>resnet_label2</th>\n",
       "      <th>...</th>\n",
       "      <th>resnet_score2</th>\n",
       "      <th>resnet_score3</th>\n",
       "      <th>resnet_time</th>\n",
       "      <th>vgg_label1</th>\n",
       "      <th>vgg_label2</th>\n",
       "      <th>vgg_label3</th>\n",
       "      <th>vgg_score1</th>\n",
       "      <th>vgg_score2</th>\n",
       "      <th>vgg_score3</th>\n",
       "      <th>vgg_time</th>\n",
       "    </tr>\n",
       "  </thead>\n",
       "  <tbody>\n",
       "    <tr>\n",
       "      <th>0</th>\n",
       "      <td>NMAH-RWS2014-02463</td>\n",
       "      <td>vase</td>\n",
       "      <td>sax</td>\n",
       "      <td>knee_pad</td>\n",
       "      <td>0.940898</td>\n",
       "      <td>2.864522e-02</td>\n",
       "      <td>5.646671e-03</td>\n",
       "      <td>5.039866</td>\n",
       "      <td>barbershop</td>\n",
       "      <td>book_jacket</td>\n",
       "      <td>...</td>\n",
       "      <td>0.145418</td>\n",
       "      <td>0.036396</td>\n",
       "      <td>3.377318</td>\n",
       "      <td>barbershop</td>\n",
       "      <td>book_jacket</td>\n",
       "      <td>street_sign</td>\n",
       "      <td>0.150656</td>\n",
       "      <td>0.095931</td>\n",
       "      <td>0.066906</td>\n",
       "      <td>0.661116</td>\n",
       "    </tr>\n",
       "    <tr>\n",
       "      <th>1</th>\n",
       "      <td>NMAH-AHB2017q051349</td>\n",
       "      <td>web_site</td>\n",
       "      <td>stole</td>\n",
       "      <td>sock</td>\n",
       "      <td>1.000000</td>\n",
       "      <td>2.084866e-12</td>\n",
       "      <td>4.749108e-15</td>\n",
       "      <td>0.172880</td>\n",
       "      <td>projector</td>\n",
       "      <td>printer</td>\n",
       "      <td>...</td>\n",
       "      <td>0.301297</td>\n",
       "      <td>0.083930</td>\n",
       "      <td>0.163295</td>\n",
       "      <td>space_bar</td>\n",
       "      <td>mousetrap</td>\n",
       "      <td>typewriter_keyboard</td>\n",
       "      <td>0.155662</td>\n",
       "      <td>0.151660</td>\n",
       "      <td>0.113297</td>\n",
       "      <td>0.408447</td>\n",
       "    </tr>\n",
       "    <tr>\n",
       "      <th>2</th>\n",
       "      <td>NMAH-AHB2016q019017</td>\n",
       "      <td>web_site</td>\n",
       "      <td>pitcher</td>\n",
       "      <td>nematode</td>\n",
       "      <td>1.000000</td>\n",
       "      <td>1.646212e-10</td>\n",
       "      <td>7.085857e-12</td>\n",
       "      <td>0.165391</td>\n",
       "      <td>medicine_chest</td>\n",
       "      <td>sewing_machine</td>\n",
       "      <td>...</td>\n",
       "      <td>0.066207</td>\n",
       "      <td>0.063899</td>\n",
       "      <td>0.161194</td>\n",
       "      <td>oboe</td>\n",
       "      <td>bassoon</td>\n",
       "      <td>syringe</td>\n",
       "      <td>0.358869</td>\n",
       "      <td>0.103650</td>\n",
       "      <td>0.092679</td>\n",
       "      <td>0.403313</td>\n",
       "    </tr>\n",
       "    <tr>\n",
       "      <th>3</th>\n",
       "      <td>NMAH-AHB2012q01865</td>\n",
       "      <td>web_site</td>\n",
       "      <td>toilet_tissue</td>\n",
       "      <td>sea_urchin</td>\n",
       "      <td>1.000000</td>\n",
       "      <td>0.000000e+00</td>\n",
       "      <td>0.000000e+00</td>\n",
       "      <td>0.178968</td>\n",
       "      <td>puck</td>\n",
       "      <td>CD_player</td>\n",
       "      <td>...</td>\n",
       "      <td>0.103096</td>\n",
       "      <td>0.049230</td>\n",
       "      <td>0.162606</td>\n",
       "      <td>CD_player</td>\n",
       "      <td>hard_disc</td>\n",
       "      <td>puck</td>\n",
       "      <td>0.168662</td>\n",
       "      <td>0.124956</td>\n",
       "      <td>0.121544</td>\n",
       "      <td>0.408949</td>\n",
       "    </tr>\n",
       "    <tr>\n",
       "      <th>4</th>\n",
       "      <td>NMAH-JN2013-1822</td>\n",
       "      <td>web_site</td>\n",
       "      <td>pitcher</td>\n",
       "      <td>stopwatch</td>\n",
       "      <td>0.999967</td>\n",
       "      <td>3.203696e-05</td>\n",
       "      <td>1.294335e-06</td>\n",
       "      <td>0.157865</td>\n",
       "      <td>pill_bottle</td>\n",
       "      <td>whiskey_jug</td>\n",
       "      <td>...</td>\n",
       "      <td>0.012156</td>\n",
       "      <td>0.011986</td>\n",
       "      <td>0.156619</td>\n",
       "      <td>pill_bottle</td>\n",
       "      <td>perfume</td>\n",
       "      <td>saltshaker</td>\n",
       "      <td>0.723298</td>\n",
       "      <td>0.089636</td>\n",
       "      <td>0.074259</td>\n",
       "      <td>0.412242</td>\n",
       "    </tr>\n",
       "  </tbody>\n",
       "</table>\n",
       "<p>5 rows × 22 columns</p>\n",
       "</div>"
      ],
      "text/plain": [
       "              image_id inception_label1 inception_label2 inception_label3  \\\n",
       "0   NMAH-RWS2014-02463             vase              sax         knee_pad   \n",
       "1  NMAH-AHB2017q051349         web_site            stole             sock   \n",
       "2  NMAH-AHB2016q019017         web_site          pitcher         nematode   \n",
       "3   NMAH-AHB2012q01865         web_site    toilet_tissue       sea_urchin   \n",
       "4     NMAH-JN2013-1822         web_site          pitcher        stopwatch   \n",
       "\n",
       "   inception_score1  inception_score2  inception_score3  inception_time  \\\n",
       "0          0.940898      2.864522e-02      5.646671e-03        5.039866   \n",
       "1          1.000000      2.084866e-12      4.749108e-15        0.172880   \n",
       "2          1.000000      1.646212e-10      7.085857e-12        0.165391   \n",
       "3          1.000000      0.000000e+00      0.000000e+00        0.178968   \n",
       "4          0.999967      3.203696e-05      1.294335e-06        0.157865   \n",
       "\n",
       "    resnet_label1   resnet_label2  ... resnet_score2  resnet_score3  \\\n",
       "0      barbershop     book_jacket  ...      0.145418       0.036396   \n",
       "1       projector         printer  ...      0.301297       0.083930   \n",
       "2  medicine_chest  sewing_machine  ...      0.066207       0.063899   \n",
       "3            puck       CD_player  ...      0.103096       0.049230   \n",
       "4     pill_bottle     whiskey_jug  ...      0.012156       0.011986   \n",
       "\n",
       "   resnet_time   vgg_label1   vgg_label2           vgg_label3 vgg_score1  \\\n",
       "0     3.377318   barbershop  book_jacket          street_sign   0.150656   \n",
       "1     0.163295    space_bar    mousetrap  typewriter_keyboard   0.155662   \n",
       "2     0.161194         oboe      bassoon              syringe   0.358869   \n",
       "3     0.162606    CD_player    hard_disc                 puck   0.168662   \n",
       "4     0.156619  pill_bottle      perfume           saltshaker   0.723298   \n",
       "\n",
       "  vgg_score2  vgg_score3  vgg_time  \n",
       "0   0.095931    0.066906  0.661116  \n",
       "1   0.151660    0.113297  0.408447  \n",
       "2   0.103650    0.092679  0.403313  \n",
       "3   0.124956    0.121544  0.408949  \n",
       "4   0.089636    0.074259  0.412242  \n",
       "\n",
       "[5 rows x 22 columns]"
      ]
     },
     "execution_count": 17,
     "metadata": {},
     "output_type": "execute_result"
    }
   ],
   "source": [
    "resnet_df = pd.read_csv('keras_results_resnet.tsv', sep='\\t')\n",
    "vgg_df = pd.read_csv('keras_results_vgg.tsv', sep='\\t')\n",
    "\n",
    "keras_combined = inception_df.merge(resnet_df, on='image_id').merge(vgg_df, on='image_id')\n",
    "keras_combined.head()"
   ]
  },
  {
   "cell_type": "code",
   "execution_count": 18,
   "metadata": {},
   "outputs": [
    {
     "name": "stdout",
     "output_type": "stream",
     "text": [
      "<class 'pandas.core.frame.DataFrame'>\n",
      "Int64Index: 1554 entries, 0 to 1553\n",
      "Data columns (total 22 columns):\n",
      "image_id            1554 non-null object\n",
      "inception_label1    1554 non-null object\n",
      "inception_label2    1554 non-null object\n",
      "inception_label3    1554 non-null object\n",
      "inception_score1    1554 non-null float64\n",
      "inception_score2    1554 non-null float64\n",
      "inception_score3    1554 non-null float64\n",
      "inception_time      1554 non-null float64\n",
      "resnet_label1       1554 non-null object\n",
      "resnet_label2       1554 non-null object\n",
      "resnet_label3       1554 non-null object\n",
      "resnet_score1       1554 non-null float64\n",
      "resnet_score2       1554 non-null float64\n",
      "resnet_score3       1554 non-null float64\n",
      "resnet_time         1554 non-null float64\n",
      "vgg_label1          1554 non-null object\n",
      "vgg_label2          1554 non-null object\n",
      "vgg_label3          1554 non-null object\n",
      "vgg_score1          1554 non-null float64\n",
      "vgg_score2          1554 non-null float64\n",
      "vgg_score3          1554 non-null float64\n",
      "vgg_time            1554 non-null float64\n",
      "dtypes: float64(12), object(10)\n",
      "memory usage: 279.2+ KB\n"
     ]
    }
   ],
   "source": [
    "keras_combined.info()"
   ]
  },
  {
   "cell_type": "code",
   "execution_count": 21,
   "metadata": {
    "ExecuteTime": {
     "end_time": "2019-06-19T16:37:24.823491Z",
     "start_time": "2019-06-19T16:37:24.814277Z"
    }
   },
   "outputs": [
    {
     "name": "stdout",
     "output_type": "stream",
     "text": [
      "<class 'pandas.core.frame.DataFrame'>\n",
      "Int64Index: 1357 entries, 0 to 1356\n",
      "Data columns (total 35 columns):\n",
      "MEDIA_ID                     1357 non-null object\n",
      "ID_NUMBER                    1357 non-null object\n",
      "MKEY                         1357 non-null int64\n",
      "DIVISION                     1357 non-null object\n",
      "ITEM_NAME                    1357 non-null object\n",
      "IDS_DELIVERY_SERVICE_LINK    1357 non-null object\n",
      "google_api_time              1357 non-null float64\n",
      "google_label1                1335 non-null object\n",
      "google_label2                1260 non-null object\n",
      "google_label3                1161 non-null object\n",
      "google_score1                1335 non-null float64\n",
      "google_score2                1260 non-null float64\n",
      "google_score3                1161 non-null float64\n",
      "image_id                     1357 non-null object\n",
      "inception_label1             1357 non-null object\n",
      "inception_label2             1357 non-null object\n",
      "inception_label3             1357 non-null object\n",
      "inception_score1             1357 non-null float64\n",
      "inception_score2             1357 non-null float64\n",
      "inception_score3             1357 non-null float64\n",
      "inception_time               1357 non-null float64\n",
      "resnet_label1                1357 non-null object\n",
      "resnet_label2                1357 non-null object\n",
      "resnet_label3                1357 non-null object\n",
      "resnet_score1                1357 non-null float64\n",
      "resnet_score2                1357 non-null float64\n",
      "resnet_score3                1357 non-null float64\n",
      "resnet_time                  1357 non-null float64\n",
      "vgg_label1                   1357 non-null object\n",
      "vgg_label2                   1357 non-null object\n",
      "vgg_label3                   1357 non-null object\n",
      "vgg_score1                   1357 non-null float64\n",
      "vgg_score2                   1357 non-null float64\n",
      "vgg_score3                   1357 non-null float64\n",
      "vgg_time                     1357 non-null float64\n",
      "dtypes: float64(16), int64(1), object(18)\n",
      "memory usage: 381.7+ KB\n"
     ]
    }
   ],
   "source": [
    "all_combined = combined_original.merge(google_df, left_on='MEDIA_ID', right_on='image_id').merge(keras_combined, on='image_id')\n",
    "all_combined.info()"
   ]
  },
  {
   "cell_type": "code",
   "execution_count": 23,
   "metadata": {},
   "outputs": [
    {
     "data": {
      "text/plain": [
       "Index(['MEDIA_ID', 'ID_NUMBER', 'MKEY', 'DIVISION', 'ITEM_NAME',\n",
       "       'IDS_DELIVERY_SERVICE_LINK', 'google_api_time', 'google_label1',\n",
       "       'google_label2', 'google_label3', 'google_score1', 'google_score2',\n",
       "       'google_score3', 'image_id', 'inception_label1', 'inception_label2',\n",
       "       'inception_label3', 'inception_score1', 'inception_score2',\n",
       "       'inception_score3', 'inception_time', 'resnet_label1', 'resnet_label2',\n",
       "       'resnet_label3', 'resnet_score1', 'resnet_score2', 'resnet_score3',\n",
       "       'resnet_time', 'vgg_label1', 'vgg_label2', 'vgg_label3', 'vgg_score1',\n",
       "       'vgg_score2', 'vgg_score3', 'vgg_time'],\n",
       "      dtype='object')"
      ]
     },
     "execution_count": 23,
     "metadata": {},
     "output_type": "execute_result"
    }
   ],
   "source": [
    "all_combined.columns"
   ]
  },
  {
   "cell_type": "code",
   "execution_count": 25,
   "metadata": {},
   "outputs": [
    {
     "data": {
      "text/plain": [
       "0    =HYPERLINK(\"http://ids.si.edu/ids/deliveryServ...\n",
       "1    =HYPERLINK(\"http://ids.si.edu/ids/deliveryServ...\n",
       "2    =HYPERLINK(\"http://ids.si.edu/ids/deliveryServ...\n",
       "3    =HYPERLINK(\"http://ids.si.edu/ids/deliveryServ...\n",
       "4    =HYPERLINK(\"http://ids.si.edu/ids/deliveryServ...\n",
       "Name: MEDIA_ID, dtype: object"
      ]
     },
     "execution_count": 25,
     "metadata": {},
     "output_type": "execute_result"
    }
   ],
   "source": [
    "all_combined['MEDIA_ID'] = '=HYPERLINK(\"'+ all_combined['IDS_DELIVERY_SERVICE_LINK'] +'\",\"' + all_combined['MEDIA_ID'] + '\")'\n",
    "all_combined['MEDIA_ID'].head()"
   ]
  },
  {
   "cell_type": "code",
   "execution_count": 27,
   "metadata": {},
   "outputs": [],
   "source": [
    "new_col_order = ['MEDIA_ID','ID_NUMBER','MKEY','DIVISION','ITEM_NAME',\n",
    "                 'google_label1','google_score1','google_label2','google_score2','google_label3','google_score3',\n",
    "                 'inception_label1','inception_score1','inception_label2','inception_score2','inception_label3','inception_score3',\n",
    "                 'resnet_label1','resnet_score1','resnet_label2','resnet_score2','resnet_label3','resnet_score3',\n",
    "                 'vgg_label1','vgg_score1','vgg_label2','vgg_score2','vgg_label3','vgg_score3']\n",
    "excel_df = all_combined[new_col_order]\n",
    "excel_df.to_excel('nmah_image_label_results.xlsx', index=False)"
   ]
  },
  {
   "cell_type": "code",
   "execution_count": null,
   "metadata": {},
   "outputs": [],
   "source": []
  }
 ],
 "metadata": {
  "kernelspec": {
   "display_name": "Python 3",
   "language": "python",
   "name": "python3"
  },
  "language_info": {
   "codemirror_mode": {
    "name": "ipython",
    "version": 3
   },
   "file_extension": ".py",
   "mimetype": "text/x-python",
   "name": "python",
   "nbconvert_exporter": "python",
   "pygments_lexer": "ipython3",
   "version": "3.7.3"
  }
 },
 "nbformat": 4,
 "nbformat_minor": 2
}
